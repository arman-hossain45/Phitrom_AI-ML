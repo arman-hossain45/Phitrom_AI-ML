{
 "cells": [
  {
   "cell_type": "code",
   "execution_count": 1,
   "id": "f31fb6a1",
   "metadata": {},
   "outputs": [
    {
     "name": "stdout",
     "output_type": "stream",
     "text": [
      " hey my name is arman hossain  , i want to dream in abroad . i alaways feel hasitation because I do\n",
      "dont know that i can do it\n"
     ]
    }
   ],
   "source": [
    "string=\"\"\" hey my name is arman hossain  , i want to dream in abroad . i alaways feel hasitation because I do\n",
    "dont know that i can do it\"\"\"\n",
    "print(string)"
   ]
  },
  {
   "cell_type": "code",
   "execution_count": 2,
   "id": "bb152fef",
   "metadata": {},
   "outputs": [
    {
     "name": "stdout",
     "output_type": "stream",
     "text": [
      "16\n"
     ]
    }
   ],
   "source": [
    "idx=string.find(\"arman\")\n",
    "print(idx)"
   ]
  },
  {
   "cell_type": "markdown",
   "id": "8deda2b1",
   "metadata": {},
   "source": [
    "#it there is a multiple string i want to see at last string of this multiple string \n"
   ]
  },
  {
   "cell_type": "code",
   "execution_count": 5,
   "id": "351b1ca9",
   "metadata": {},
   "outputs": [
    {
     "name": "stdout",
     "output_type": "stream",
     "text": [
      "121\n"
     ]
    }
   ],
   "source": [
    "id=string.rfind(\"do\")\n",
    "print(id)"
   ]
  },
  {
   "cell_type": "code",
   "execution_count": 6,
   "id": "26d84938",
   "metadata": {},
   "outputs": [
    {
     "name": "stdout",
     "output_type": "stream",
     "text": [
      "3\n"
     ]
    }
   ],
   "source": [
    "count=string.count(\"do\")\n",
    "print(count)"
   ]
  },
  {
   "cell_type": "code",
   "execution_count": 7,
   "id": "4d91df76",
   "metadata": {},
   "outputs": [
    {
     "name": "stdout",
     "output_type": "stream",
     "text": [
      " hey my name is arman hossain  , i want to dream in abroad . i alaways feel hasitation because I must\n",
      "mustnt know that i can must it\n"
     ]
    }
   ],
   "source": [
    "replace=string.replace(\"do\",\"must\")\n",
    "print(replace)"
   ]
  },
  {
   "cell_type": "markdown",
   "id": "6cdf15c8",
   "metadata": {},
   "source": [
    "#tokennization "
   ]
  },
  {
   "cell_type": "markdown",
   "id": "d7287b6f",
   "metadata": {},
   "source": [
    "#spliting,joining,formatted string"
   ]
  },
  {
   "cell_type": "code",
   "execution_count": 8,
   "id": "a256f284",
   "metadata": {},
   "outputs": [
    {
     "name": "stdout",
     "output_type": "stream",
     "text": [
      "b\n",
      "a\n",
      "n\n",
      "a\n",
      "n\n",
      "a\n"
     ]
    }
   ],
   "source": [
    "for x in \"banana\":\n",
    "  print(x)"
   ]
  },
  {
   "cell_type": "code",
   "execution_count": 9,
   "id": "48cd95bf",
   "metadata": {},
   "outputs": [
    {
     "name": "stdout",
     "output_type": "stream",
     "text": [
      "126\n"
     ]
    }
   ],
   "source": [
    "len=len(string)\n",
    "print(len)"
   ]
  },
  {
   "cell_type": "code",
   "execution_count": 10,
   "id": "21951c7b",
   "metadata": {},
   "outputs": [
    {
     "name": "stdout",
     "output_type": "stream",
     "text": [
      "True\n"
     ]
    }
   ],
   "source": [
    "txt=\"the best things in life are free\"\n",
    "print(\"free\" in txt)"
   ]
  },
  {
   "cell_type": "code",
   "execution_count": 12,
   "id": "f7de7c1a",
   "metadata": {},
   "outputs": [
    {
     "name": "stdout",
     "output_type": "stream",
     "text": [
      "no baby its not here  search another things \n"
     ]
    }
   ],
   "source": [
    "if \"arman\" in txt:\n",
    "    print(\"yes baby its here \")\n",
    "\n",
    "else:\n",
    "    print(\"no baby its not here  search another things \")"
   ]
  },
  {
   "cell_type": "code",
   "execution_count": 13,
   "id": "0aa002fb",
   "metadata": {},
   "outputs": [
    {
     "name": "stdout",
     "output_type": "stream",
     "text": [
      "True\n"
     ]
    }
   ],
   "source": [
    "print(\"arman\" not in txt)"
   ]
  },
  {
   "cell_type": "code",
   "execution_count": 18,
   "id": "28f5edd8",
   "metadata": {},
   "outputs": [
    {
     "name": "stdout",
     "output_type": "stream",
     "text": [
      " HELLO IAM RECENTY JOIN THE \n",
      "COURSE OF PYTHON AI/ML COURSE \n",
      " hello iam recenty join the \n",
      "course of python ai/ml course \n",
      " hello iam recenty join the \n",
      "course of python ai/ml course \n"
     ]
    }
   ],
   "source": [
    "message=\"\"\" hello Iam recenty join the \n",
    "course of python AI/ml course \"\"\"\n",
    "a=message\n",
    "print(a.upper())\n",
    "print(a.lower())\n",
    "print(a.capitalize())"
   ]
  },
  {
   "cell_type": "markdown",
   "id": "69f937de",
   "metadata": {},
   "source": [
    "এর মানে — যদি তোমার কোনো স্ট্রিং-এর শুরুতে বা শেষে অতিরিক্ত স্পেস বা কিছু নির্দিষ্ট চিহ্ন থাকে, তাহলে strip() সেগুলো সরিয়ে দেয়।"
   ]
  },
  {
   "cell_type": "code",
   "execution_count": 27,
   "id": "2af57435",
   "metadata": {},
   "outputs": [
    {
     "name": "stdout",
     "output_type": "stream",
     "text": [
      "my name is Arman\n"
     ]
    }
   ],
   "source": [
    "ar=\"                       \\r\\f my name is Arman \\n  \"\n",
    "print(ar.strip())"
   ]
  },
  {
   "cell_type": "code",
   "execution_count": null,
   "id": "be1ca930",
   "metadata": {},
   "outputs": [],
   "source": [
    "name = input(\"Enter your name: \")  # ধরো ইনপুট: \"  Arman  \"\n",
    "clean_name = name.strip()\n",
    "print(\"Welcome,\", clean_name)\n"
   ]
  },
  {
   "cell_type": "markdown",
   "id": "06f4968a",
   "metadata": {},
   "source": [
    "Problem 1: Common Friends (Set Operations)\n",
    "Problem:\n",
    " Given two sets of friends from two people, find the mutual friends, unique friends of each, and the total number of unique friends.\\n\n",
    "\n"
   ]
  },
  {
   "cell_type": "markdown",
   "id": "f713aecd",
   "metadata": {},
   "source": [
    "Example Input:\n",
    "\n",
    "\n"
   ]
  },
  {
   "cell_type": "markdown",
   "id": "622f00df",
   "metadata": {},
   "source": [
    "a_friends = {\"Rahim\", \"Karim\", \"Sakib\", \"Jamal\"}\n",
    "\n"
   ]
  },
  {
   "cell_type": "markdown",
   "id": "a87fc6e0",
   "metadata": {},
   "source": [
    "b_friends = {\"Sakib\", \"Jamal\", \"Rafiq\", \"Nadim\"}"
   ]
  },
  {
   "cell_type": "markdown",
   "id": "79d45e1c",
   "metadata": {},
   "source": [
    "Expected Output:"
   ]
  },
  {
   "cell_type": "markdown",
   "id": "3c299f8c",
   "metadata": {},
   "source": [
    "Mutual friends: {'Sakib', 'Jamal'}"
   ]
  },
  {
   "cell_type": "markdown",
   "id": "948de0ea",
   "metadata": {},
   "source": [
    "Unique to A: {'Rahim', 'Karim'}"
   ]
  },
  {
   "cell_type": "markdown",
   "id": "be3b522f",
   "metadata": {},
   "source": [
    "  Unique to B: {'Rafiq', 'Nadim'}"
   ]
  },
  {
   "cell_type": "markdown",
   "id": "3620dd21",
   "metadata": {},
   "source": [
    "Total unique friends: 6"
   ]
  },
  {
   "cell_type": "code",
   "execution_count": 3,
   "id": "a15779bc",
   "metadata": {},
   "outputs": [
    {
     "name": "stdout",
     "output_type": "stream",
     "text": [
      "Mutual friends is :  {'Sakib', 'Jamal'}\n",
      "Unique to A: {'Karim', 'Rahim'}\n",
      "{'Nadim', 'Rafiq', 'Jamal', 'Sakib', 'Karim', 'Rahim'}\n",
      "Totall unique name is : 6\n"
     ]
    }
   ],
   "source": [
    "a_friends = {\"Rahim\", \"Karim\", \"Sakib\", \"Jamal\"}\n",
    "b_friends = {\"Sakib\", \"Jamal\", \"Rafiq\", \"Nadim\"}\n",
    "c=a_friends.intersection(b_friends)\n",
    "print(\"Mutual friends is : \",c)\n",
    "d=a_friends.difference(b_friends)\n",
    "print(\"Unique to A:\",d)\n",
    "e=b_friends.difference(a_friends)\n",
    "totall_unique=a_friends.union(b_friends)\n",
    "print(totall_unique)\n",
    "totall=len(totall_unique)\n",
    "print(\"Totall unique name is :\",totall)\n"
   ]
  },
  {
   "cell_type": "markdown",
   "id": "3aaecab8",
   "metadata": {},
   "source": [
    "list method in python and also list concatanation"
   ]
  },
  {
   "cell_type": "code",
   "execution_count": 4,
   "id": "a2c04b86",
   "metadata": {},
   "outputs": [
    {
     "name": "stdout",
     "output_type": "stream",
     "text": [
      "[0, 2, 4, 6, 8]\n"
     ]
    }
   ],
   "source": [
    "even=[]\n",
    "\n",
    "for i in range(10):\n",
    "    if i%2==0:\n",
    "        even.append(i)\n",
    "\n",
    "print(even)"
   ]
  },
  {
   "cell_type": "markdown",
   "id": "efa09181",
   "metadata": {},
   "source": [
    "same things we can do in list comprehension "
   ]
  },
  {
   "cell_type": "code",
   "execution_count": 7,
   "id": "f5dc035e",
   "metadata": {},
   "outputs": [
    {
     "name": "stdout",
     "output_type": "stream",
     "text": [
      "[0, 2, 4, 6, 8]\n"
     ]
    }
   ],
   "source": [
    "even=[x for x in range(10) if x%2==0]\n",
    "print(even)"
   ]
  },
  {
   "cell_type": "code",
   "execution_count": 8,
   "id": "b487823d",
   "metadata": {},
   "outputs": [
    {
     "name": "stdout",
     "output_type": "stream",
     "text": [
      "['Banana', 'Orange', 'Mango', 'Lemon']\n"
     ]
    }
   ],
   "source": [
    "fruits=[\"banana\",'orange','mango','lemon']\n",
    "c=[]\n",
    "for i in fruits:\n",
    " c.append(i.capitalize())\n",
    "\n",
    "print(c)"
   ]
  },
  {
   "cell_type": "markdown",
   "id": "302e490d",
   "metadata": {},
   "source": [
    "but in list compression we can do it  in a simple way\n"
   ]
  },
  {
   "cell_type": "code",
   "execution_count": null,
   "id": "c20b698c",
   "metadata": {},
   "outputs": [
    {
     "name": "stdout",
     "output_type": "stream",
     "text": [
      "['banana', 'orange', 'mango', 'lemon']\n"
     ]
    }
   ],
   "source": [
    "lower=[fruit.lower() for fruit in fruits]\n",
    "print(lower)"
   ]
  },
  {
   "cell_type": "code",
   "execution_count": 10,
   "id": "6691b9a3",
   "metadata": {},
   "outputs": [
    {
     "name": "stdout",
     "output_type": "stream",
     "text": [
      "['BANANA', 'ORANGE', 'MANGO', 'LEMON']\n"
     ]
    }
   ],
   "source": [
    "upper=[fruit.upper() for fruit in fruits]\n",
    "print(upper)"
   ]
  },
  {
   "cell_type": "code",
   "execution_count": null,
   "id": "1c2c2d8c",
   "metadata": {},
   "outputs": [
    {
     "name": "stdout",
     "output_type": "stream",
     "text": [
      "['what', 'is', 'life', 'guys']\n",
      "what\n",
      "is\n",
      "life\n",
      "guys\n",
      "what is life guys\n"
     ]
    }
   ],
   "source": [
    "promt=\"what is life guys \"\n",
    "token=promt.split()\n",
    "print(token)\n",
    "\n",
    "for i in token:\n",
    "    print(i)\n",
    "\n",
    "string=\" \".join(token)\n",
    "print(string)\n"
   ]
  },
  {
   "cell_type": "markdown",
   "id": "13c35721",
   "metadata": {},
   "source": [
    "here we take input as a list y using split ()"
   ]
  },
  {
   "cell_type": "code",
   "execution_count": 15,
   "id": "48b6749e",
   "metadata": {},
   "outputs": [
    {
     "name": "stdout",
     "output_type": "stream",
     "text": [
      "['hu', 'my', 'name']\n"
     ]
    }
   ],
   "source": [
    "n=input(\"ente a string : \")\n",
    "\n",
    "a=n.split()\n",
    "print(a)"
   ]
  },
  {
   "cell_type": "markdown",
   "id": "4a46ed3b",
   "metadata": {},
   "source": [
    "list method "
   ]
  },
  {
   "cell_type": "code",
   "execution_count": 27,
   "id": "df2f0fc8",
   "metadata": {},
   "outputs": [
    {
     "name": "stdout",
     "output_type": "stream",
     "text": [
      "[10, 20, 30, 40, 50, 60, 80]\n",
      "[100, 10, 20, 30, 40, 50, 60, 80]\n",
      "[10, 20, 30, 40, 50, 60, 80]\n",
      "[10, 20, 30, 40, 50, 60, 80]\n",
      "[80, 60, 50, 40, 30, 20, 10]\n",
      "[80, 60, 50, 40, 30, 20]\n",
      "80\n"
     ]
    }
   ],
   "source": [
    "lst=[10,20,30,40,50,60]\n",
    "lst.append(80)\n",
    "\n",
    "print(lst)\n",
    "\n",
    "lst.insert(0,100)\n",
    "print(lst)\n",
    "lst.pop(0)#give here index value not given value \n",
    "print(lst)\n",
    "lst.sort()\n",
    "print(lst)\n",
    "lst.reverse()\n",
    "print(lst)\n",
    "lst.remove(10)\n",
    "print(lst)\n",
    "print(lst[0])"
   ]
  },
  {
   "cell_type": "markdown",
   "id": "cdd78b7b",
   "metadata": {},
   "source": [
    "TUPLE"
   ]
  },
  {
   "cell_type": "markdown",
   "id": "c43d5081",
   "metadata": {},
   "source": [
    "IN Python "
   ]
  },
  {
   "cell_type": "code",
   "execution_count": null,
   "id": "62085f2d",
   "metadata": {},
   "outputs": [
    {
     "name": "stdout",
     "output_type": "stream",
     "text": [
      "(10, 23, 'arman', True)\n"
     ]
    },
    {
     "ename": "TypeError",
     "evalue": "'tuple' object does not support item assignment",
     "output_type": "error",
     "traceback": [
      "\u001b[31m---------------------------------------------------------------------------\u001b[39m",
      "\u001b[31mTypeError\u001b[39m                                 Traceback (most recent call last)",
      "\u001b[36mCell\u001b[39m\u001b[36m \u001b[39m\u001b[32mIn[30]\u001b[39m\u001b[32m, line 3\u001b[39m\n\u001b[32m      1\u001b[39m tuo=(\u001b[32m10\u001b[39m,\u001b[32m23\u001b[39m,\u001b[33m'\u001b[39m\u001b[33marman\u001b[39m\u001b[33m'\u001b[39m,\u001b[38;5;28;01mTrue\u001b[39;00m)\n\u001b[32m      2\u001b[39m \u001b[38;5;28mprint\u001b[39m(tuo)\n\u001b[32m----> \u001b[39m\u001b[32m3\u001b[39m \u001b[43mtuo\u001b[49m\u001b[43m[\u001b[49m\u001b[32;43m0\u001b[39;49m\u001b[43m]\u001b[49m=\u001b[32m100\u001b[39m\n\u001b[32m      4\u001b[39m \u001b[38;5;28mprint\u001b[39m(tao)\n",
      "\u001b[31mTypeError\u001b[39m: 'tuple' object does not support item assignment"
     ]
    }
   ],
   "source": [
    "tuo=(10,23,'arman',True)\n",
    "print(tuo)\n",
    "tuo[0]=100\n",
    "print(tuo)#tuple  are immautable"
   ]
  },
  {
   "cell_type": "markdown",
   "id": "6783200d",
   "metadata": {},
   "source": [
    "dictionary in python and it a method and iteration "
   ]
  },
  {
   "cell_type": "markdown",
   "id": "762e93be",
   "metadata": {},
   "source": [
    "Dictionay view method in python "
   ]
  },
  {
   "cell_type": "code",
   "execution_count": 33,
   "id": "d8d27832",
   "metadata": {},
   "outputs": [
    {
     "name": "stdout",
     "output_type": "stream",
     "text": [
      "dict_keys(['ID', 'name', 'age'])\n",
      "dict_values([231061008, 'arman', 20])\n",
      "ID 231061008\n",
      "name arman\n",
      "age 20\n"
     ]
    }
   ],
   "source": [
    "dic={'ID':231061008,'name':'arman','age':20}\n",
    "key=dic.keys()\n",
    "print(key)\n",
    "print(dic.values())\n",
    "for key,value in dic.items():\n",
    "    print(key,value)"
   ]
  },
  {
   "cell_type": "code",
   "execution_count": 39,
   "id": "518c7684",
   "metadata": {},
   "outputs": [
    {
     "name": "stdout",
     "output_type": "stream",
     "text": [
      "{0: 0, 2: 4, 4: 16, 6: 36, 8: 64}\n"
     ]
    }
   ],
   "source": [
    "#dictionanry comprehension\n",
    "square={x:x**2 for x in range(10)if x%2==0}\n",
    "print(square)"
   ]
  },
  {
   "cell_type": "code",
   "execution_count": 44,
   "id": "fba8882a",
   "metadata": {},
   "outputs": [
    {
     "name": "stdout",
     "output_type": "stream",
     "text": [
      "{(10, 20, 30): 'Dhaka', (30, 56, 89): 'comilla', (45, 56, 90): 'uk'}\n",
      "[(10, 20, 30), (30, 56, 89), (45, 56, 90)]\n"
     ]
    }
   ],
   "source": [
    "co=[(10,20,30),(30,56,89),(45,56,90)]\n",
    "lo=['Dhaka','comilla','uk']\n",
    "exact_location={cor:loc for cor,loc in zip(co,lo) }\n",
    "print(exact_location)\n",
    "print(co)"
   ]
  },
  {
   "cell_type": "markdown",
   "id": "540c2423",
   "metadata": {},
   "source": [
    "given a string  print the freguncy of the word "
   ]
  },
  {
   "cell_type": "code",
   "execution_count": null,
   "id": "04bfd4f8",
   "metadata": {},
   "outputs": [
    {
     "name": "stdout",
     "output_type": "stream",
     "text": [
      "['Hi', 'my', 'name', 'is', 'Arman', '.', 'Recently', 'I', 'learn', 'about', 'machine', 'learning', 'so', 'i', 'decided', 'to', 'learn', 'python', 'basic']\n"
     ]
    }
   ],
   "source": [
    "message=\"\"\"Hi my name is Arman . Recently I learn about machine learning so i decided to learn python basic \"\"\"\n",
    "words=message.split()\n",
    "print(words)#creat this string into token "
   ]
  },
  {
   "cell_type": "code",
   "execution_count": 3,
   "id": "3e9b5808",
   "metadata": {},
   "outputs": [
    {
     "name": "stdout",
     "output_type": "stream",
     "text": [
      "{'Hi': 1, 'my': 1, 'name': 1, 'is': 1, 'Arman': 1, '.': 1, 'Recently': 1, 'I': 1, 'learn': 2, 'about': 1, 'machine': 1, 'learning': 1, 'so': 1, 'i': 1, 'decided': 1, 'to': 1, 'python': 1, 'basic': 1}\n"
     ]
    }
   ],
   "source": [
    "count={}\n",
    "for word in words:\n",
    "    count[word]=count.get(word,0)+1\n",
    "print(count)"
   ]
  },
  {
   "cell_type": "code",
   "execution_count": null,
   "id": "cf2a2a37",
   "metadata": {},
   "outputs": [
    {
     "name": "stdout",
     "output_type": "stream",
     "text": [
      "[78, 67, 56, 45, 23, 3, 1]\n",
      "[1, 3, 23, 45, 56, 67, 78]\n"
     ]
    }
   ],
   "source": [
    "lst=[1,23,45,67,78,3,56]\n",
    "lst.sort(reverse=True)#decending order print korbe boro theke choto \n",
    "print(lst)\n",
    "lst.sort()\n",
    "print(lst)"
   ]
  },
  {
   "cell_type": "markdown",
   "id": "869a6d16",
   "metadata": {},
   "source": [
    "Problem 2: Sort Students by Marks (Tuple + Dictionary)\n",
    "Problem:\n",
    " You are given a list of tuples — each containing a student’s name and mark.\n",
    " Sort them in descending order of marks and print the top 3 scorers.\n",
    "Example Input:\n",
    "students = [(\"Rafi\", 89), (\"Sumi\", 95), (\"Hasan\", 90), (\"Nila\", 75), (\"Anik\", 98)]\n",
    "\n",
    "Expected Output:\n",
    "Top 3 students:\n",
    "Anik - 98\n",
    "Sumi - 95\n",
    "Hasan - 90\n"
   ]
  },
  {
   "cell_type": "code",
   "execution_count": 9,
   "id": "4213a39b",
   "metadata": {},
   "outputs": [
    {
     "name": "stdout",
     "output_type": "stream",
     "text": [
      "{'Rafi': 89, 'Sumi': 95, 'Hasan': 90, 'Nila': 75, 'Anik': 98}\n",
      "[[89, 'Rafi'], [95, 'Sumi'], [90, 'Hasan'], [75, 'Nila'], [98, 'Anik']]\n",
      "Top 3 students:\n",
      "Anik - 98\n",
      "Sumi - 95\n",
      "Hasan - 90\n"
     ]
    }
   ],
   "source": [
    "students = [(\"Rafi\", 89), (\"Sumi\", 95), (\"Hasan\", 90), (\"Nila\", 75), (\"Anik\", 98)]\n",
    "\n",
    "# Step 1: Convert list of tuples into a dictionary\n",
    "marks_dict = dict(students)\n",
    "print(marks_dict)\n",
    "\n",
    "# Step 2: Prepare for sorting\n",
    "sorted_students = []\n",
    "for name, mark in marks_dict.items():\n",
    "    sorted_students.append([mark, name])  # put mark first\n",
    "print(sorted_students)\n",
    "\n",
    "sorted_students.sort(reverse=True)  # sort descending by mark\n",
    "\n",
    "# Step 3: Print top 3\n",
    "print(\"Top 3 students:\")\n",
    "for i in range(3):\n",
    "    mark, name = sorted_students[i]\n",
    "    print(f\"{name} - {mark}\")\n",
    "\n",
    "\n"
   ]
  },
  {
   "cell_type": "code",
   "execution_count": 10,
   "id": "30442737",
   "metadata": {},
   "outputs": [
    {
     "name": "stdout",
     "output_type": "stream",
     "text": [
      "[10, 90, 89, 78] [34, 67, 45, 34]\n"
     ]
    }
   ],
   "source": [
    "#function \n",
    "\n",
    "#unpacking \n",
    "def greet():\n",
    "    a=[10,90,89,78]\n",
    "    b=[34,67,45,34]\n",
    "\n",
    "    return a,b\n",
    "\n",
    "#unpacking\n",
    "x,y=greet()\n",
    "print(x,y)"
   ]
  },
  {
   "cell_type": "markdown",
   "id": "bc795ff8",
   "metadata": {},
   "source": [
    "iterator in python "
   ]
  },
  {
   "cell_type": "code",
   "execution_count": 2,
   "id": "6b96f928",
   "metadata": {},
   "outputs": [
    {
     "name": "stdout",
     "output_type": "stream",
     "text": [
      "10\n",
      "20\n"
     ]
    }
   ],
   "source": [
    "lst = [10,20,30,40,50,60,70,80,90,100]\n",
    "my_iter = iter(lst)\n",
    "print(next(my_iter))\n",
    "print(next(my_iter))"
   ]
  },
  {
   "cell_type": "markdown",
   "id": "2a427321",
   "metadata": {},
   "source": [
    "generator in python"
   ]
  },
  {
   "cell_type": "code",
   "execution_count": null,
   "id": "43f14763",
   "metadata": {},
   "outputs": [
    {
     "name": "stdout",
     "output_type": "stream",
     "text": [
      "[0, 1, 2, 3, 4]\n",
      "[5, 6, 7, 8, 9]\n"
     ]
    }
   ],
   "source": [
    "def data_loader(size,lst):\n",
    "    for i in range(0,len(lst),size):\n",
    "        yield lst[i:i+size]\n",
    "lst=[x for x in range(100)]\n",
    "x=data_loader(5,lst)\n",
    "print(next(x))\n",
    "print(next(x))\n",
    "#in a specific portion we want to see by generator\n",
    "\n"
   ]
  },
  {
   "cell_type": "markdown",
   "id": "8ef29745",
   "metadata": {},
   "source": [
    "lambda function "
   ]
  },
  {
   "cell_type": "code",
   "execution_count": 8,
   "id": "57f80ce7",
   "metadata": {},
   "outputs": [
    {
     "name": "stdout",
     "output_type": "stream",
     "text": [
      "9\n"
     ]
    }
   ],
   "source": [
    "#normal way \n",
    "def square(a):\n",
    "    return a**2\n",
    "print(square(3))"
   ]
  },
  {
   "cell_type": "code",
   "execution_count": null,
   "id": "4910a2e3",
   "metadata": {},
   "outputs": [
    {
     "name": "stdout",
     "output_type": "stream",
     "text": [
      "9\n"
     ]
    }
   ],
   "source": [
    "#same things we can do by lanbda function here we dont want to return anythings \n",
    "\n",
    "square=lambda x:x**2\n",
    "print(square(3))"
   ]
  },
  {
   "cell_type": "code",
   "execution_count": 10,
   "id": "7c99b4b4",
   "metadata": {},
   "outputs": [
    {
     "name": "stdout",
     "output_type": "stream",
     "text": [
      "True\n"
     ]
    }
   ],
   "source": [
    "if_even=lambda x:x%2==0\n",
    "print(if_even(4))"
   ]
  },
  {
   "cell_type": "markdown",
   "id": "a8071af8",
   "metadata": {},
   "source": [
    "MAP "
   ]
  },
  {
   "cell_type": "code",
   "execution_count": 13,
   "id": "67f5470a",
   "metadata": {},
   "outputs": [
    {
     "name": "stdout",
     "output_type": "stream",
     "text": [
      "45 45 67\n"
     ]
    }
   ],
   "source": [
    "#multiple input with map function\n",
    "a,b,c=map(int,input(\"enter three numbers :\").split())\n",
    "print(a,b,c)"
   ]
  },
  {
   "cell_type": "code",
   "execution_count": 3,
   "id": "7d8b526d",
   "metadata": {},
   "outputs": [
    {
     "name": "stdout",
     "output_type": "stream",
     "text": [
      "[144, 1156, 3249]\n"
     ]
    }
   ],
   "source": [
    "lst = [12, 34, 57]\n",
    "\n",
    "def square(x):\n",
    "    return x**2\n",
    "\n",
    "lst = list(map(square, lst))  # function এবং iterable আলাদা আর্গুমেন্ট\n",
    "print(lst)\n",
    "\n"
   ]
  }
 ],
 "metadata": {
  "kernelspec": {
   "display_name": "Python 3",
   "language": "python",
   "name": "python3"
  },
  "language_info": {
   "codemirror_mode": {
    "name": "ipython",
    "version": 3
   },
   "file_extension": ".py",
   "mimetype": "text/x-python",
   "name": "python",
   "nbconvert_exporter": "python",
   "pygments_lexer": "ipython3",
   "version": "3.13.7"
  }
 },
 "nbformat": 4,
 "nbformat_minor": 5
}
