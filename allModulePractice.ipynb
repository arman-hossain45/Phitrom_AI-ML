{
 "cells": [
  {
   "cell_type": "code",
   "execution_count": 42,
   "id": "f31fb6a1",
   "metadata": {},
   "outputs": [
    {
     "name": "stdout",
     "output_type": "stream",
     "text": [
      " hey my name is arman hossain  , i want to dream in abroad . i alaways feel hasitation because I do\n",
      "dont know that i can do it\n"
     ]
    }
   ],
   "source": [
    "string=\"\"\" hey my name is arman hossain  , i want to dream in abroad . i alaways feel hasitation because I do\n",
    "dont know that i can do it\"\"\"\n",
    "print(string)"
   ]
  },
  {
   "cell_type": "code",
   "execution_count": 43,
   "id": "bb152fef",
   "metadata": {},
   "outputs": [
    {
     "name": "stdout",
     "output_type": "stream",
     "text": [
      "16\n"
     ]
    }
   ],
   "source": [
    "idx=string.find(\"arman\")\n",
    "print(idx)"
   ]
  },
  {
   "cell_type": "markdown",
   "id": "8deda2b1",
   "metadata": {},
   "source": [
    "#it there is a multiple string i want to see at last string of this multiple string \n"
   ]
  },
  {
   "cell_type": "code",
   "execution_count": 44,
   "id": "351b1ca9",
   "metadata": {},
   "outputs": [
    {
     "name": "stdout",
     "output_type": "stream",
     "text": [
      "121\n"
     ]
    }
   ],
   "source": [
    "id=string.rfind(\"do\")\n",
    "print(id)"
   ]
  },
  {
   "cell_type": "code",
   "execution_count": 45,
   "id": "26d84938",
   "metadata": {},
   "outputs": [
    {
     "name": "stdout",
     "output_type": "stream",
     "text": [
      "3\n"
     ]
    }
   ],
   "source": [
    "count=string.count(\"do\")\n",
    "print(count)"
   ]
  },
  {
   "cell_type": "code",
   "execution_count": 46,
   "id": "4d91df76",
   "metadata": {},
   "outputs": [
    {
     "name": "stdout",
     "output_type": "stream",
     "text": [
      " hey my name is arman hossain  , i want to dream in abroad . i alaways feel hasitation because I must\n",
      "mustnt know that i can must it\n"
     ]
    }
   ],
   "source": [
    "replace=string.replace(\"do\",\"must\")\n",
    "print(replace)"
   ]
  },
  {
   "cell_type": "markdown",
   "id": "6cdf15c8",
   "metadata": {},
   "source": [
    "#tokennization "
   ]
  },
  {
   "cell_type": "markdown",
   "id": "d7287b6f",
   "metadata": {},
   "source": [
    "#spliting,joining,formatted string"
   ]
  },
  {
   "cell_type": "code",
   "execution_count": 47,
   "id": "a256f284",
   "metadata": {},
   "outputs": [
    {
     "name": "stdout",
     "output_type": "stream",
     "text": [
      "b\n",
      "a\n",
      "n\n",
      "a\n",
      "n\n",
      "a\n"
     ]
    }
   ],
   "source": [
    "for x in \"banana\":\n",
    "  print(x)"
   ]
  },
  {
   "cell_type": "code",
   "execution_count": 48,
   "id": "48cd95bf",
   "metadata": {},
   "outputs": [
    {
     "name": "stdout",
     "output_type": "stream",
     "text": [
      "126\n"
     ]
    }
   ],
   "source": [
    "len=len(string)\n",
    "print(len)"
   ]
  },
  {
   "cell_type": "code",
   "execution_count": 49,
   "id": "21951c7b",
   "metadata": {},
   "outputs": [
    {
     "name": "stdout",
     "output_type": "stream",
     "text": [
      "True\n"
     ]
    }
   ],
   "source": [
    "txt=\"the best things in life are free\"\n",
    "print(\"free\" in txt)"
   ]
  },
  {
   "cell_type": "code",
   "execution_count": 50,
   "id": "f7de7c1a",
   "metadata": {},
   "outputs": [
    {
     "name": "stdout",
     "output_type": "stream",
     "text": [
      "no baby its not here  search another things \n"
     ]
    }
   ],
   "source": [
    "if \"arman\" in txt:\n",
    "    print(\"yes baby its here \")\n",
    "\n",
    "else:\n",
    "    print(\"no baby its not here  search another things \")"
   ]
  },
  {
   "cell_type": "code",
   "execution_count": 51,
   "id": "0aa002fb",
   "metadata": {},
   "outputs": [
    {
     "name": "stdout",
     "output_type": "stream",
     "text": [
      "True\n"
     ]
    }
   ],
   "source": [
    "print(\"arman\" not in txt)"
   ]
  },
  {
   "cell_type": "code",
   "execution_count": 52,
   "id": "28f5edd8",
   "metadata": {},
   "outputs": [
    {
     "name": "stdout",
     "output_type": "stream",
     "text": [
      " HELLO IAM RECENTY JOIN THE \n",
      "COURSE OF PYTHON AI/ML COURSE \n",
      " hello iam recenty join the \n",
      "course of python ai/ml course \n",
      " hello iam recenty join the \n",
      "course of python ai/ml course \n"
     ]
    }
   ],
   "source": [
    "message=\"\"\" hello Iam recenty join the \n",
    "course of python AI/ml course \"\"\"\n",
    "a=message\n",
    "print(a.upper())\n",
    "print(a.lower())\n",
    "print(a.capitalize())"
   ]
  },
  {
   "cell_type": "markdown",
   "id": "69f937de",
   "metadata": {},
   "source": [
    "এর মানে — যদি তোমার কোনো স্ট্রিং-এর শুরুতে বা শেষে অতিরিক্ত স্পেস বা কিছু নির্দিষ্ট চিহ্ন থাকে, তাহলে strip() সেগুলো সরিয়ে দেয়।"
   ]
  },
  {
   "cell_type": "code",
   "execution_count": 53,
   "id": "2af57435",
   "metadata": {},
   "outputs": [
    {
     "name": "stdout",
     "output_type": "stream",
     "text": [
      "my name is Arman\n"
     ]
    }
   ],
   "source": [
    "ar=\"                       \\r\\f my name is Arman \\n  \"\n",
    "print(ar.strip())"
   ]
  },
  {
   "cell_type": "code",
   "execution_count": null,
   "id": "be1ca930",
   "metadata": {},
   "outputs": [],
   "source": [
    "name = input(\"Enter your name: \")  # ধরো ইনপুট: \"  Arman  \"\n",
    "clean_name = name.strip()\n",
    "print(\"Welcome,\", clean_name)\n"
   ]
  },
  {
   "cell_type": "markdown",
   "id": "06f4968a",
   "metadata": {},
   "source": [
    "Problem 1: Common Friends (Set Operations)\n",
    "Problem:\n",
    " Given two sets of friends from two people, find the mutual friends, unique friends of each, and the total number of unique friends.\\n\n",
    "\n"
   ]
  },
  {
   "cell_type": "markdown",
   "id": "f713aecd",
   "metadata": {},
   "source": [
    "Example Input:\n",
    "\n",
    "\n"
   ]
  },
  {
   "cell_type": "markdown",
   "id": "622f00df",
   "metadata": {},
   "source": [
    "a_friends = {\"Rahim\", \"Karim\", \"Sakib\", \"Jamal\"}\n",
    "\n"
   ]
  },
  {
   "cell_type": "markdown",
   "id": "a87fc6e0",
   "metadata": {},
   "source": [
    "b_friends = {\"Sakib\", \"Jamal\", \"Rafiq\", \"Nadim\"}"
   ]
  },
  {
   "cell_type": "markdown",
   "id": "79d45e1c",
   "metadata": {},
   "source": [
    "Expected Output:"
   ]
  },
  {
   "cell_type": "markdown",
   "id": "3c299f8c",
   "metadata": {},
   "source": [
    "Mutual friends: {'Sakib', 'Jamal'}"
   ]
  },
  {
   "cell_type": "markdown",
   "id": "948de0ea",
   "metadata": {},
   "source": [
    "Unique to A: {'Rahim', 'Karim'}"
   ]
  },
  {
   "cell_type": "markdown",
   "id": "be3b522f",
   "metadata": {},
   "source": [
    "  Unique to B: {'Rafiq', 'Nadim'}"
   ]
  },
  {
   "cell_type": "markdown",
   "id": "3620dd21",
   "metadata": {},
   "source": [
    "Total unique friends: 6"
   ]
  },
  {
   "cell_type": "code",
   "execution_count": null,
   "id": "a15779bc",
   "metadata": {},
   "outputs": [
    {
     "name": "stdout",
     "output_type": "stream",
     "text": [
      "Mutual friends is :  {'Sakib', 'Jamal'}\n",
      "Unique to A: {'Karim', 'Rahim'}\n",
      "{'Nadim', 'Rafiq', 'Jamal', 'Sakib', 'Karim', 'Rahim'}\n",
      "Totall unique name is : 6\n"
     ]
    }
   ],
   "source": [
    "a_friends = {\"Rahim\", \"Karim\", \"Sakib\", \"Jamal\"}\n",
    "b_friends = {\"Sakib\", \"Jamal\", \"Rafiq\", \"Nadim\"}\n",
    "c=a_friends.intersection(b_friends)\n",
    "print(\"Mutual friends is : \",c)\n",
    "d=a_friends.difference(b_friends)\n",
    "print(\"Unique to A:\",d)\n",
    "e=b_friends.difference(a_friends)\n",
    "totall_unique=a_friends.union(b_friends)\n",
    "print(totall_unique)\n",
    "totall=len(totall_unique)\n",
    "print(\"Totall unique name is :\",totall)\n"
   ]
  },
  {
   "cell_type": "markdown",
   "id": "3aaecab8",
   "metadata": {},
   "source": [
    "list method in python and also list concatanation"
   ]
  },
  {
   "cell_type": "code",
   "execution_count": null,
   "id": "a2c04b86",
   "metadata": {},
   "outputs": [
    {
     "name": "stdout",
     "output_type": "stream",
     "text": [
      "[0, 2, 4, 6, 8]\n"
     ]
    }
   ],
   "source": [
    "even=[]\n",
    "\n",
    "for i in range(10):\n",
    "    if i%2==0:\n",
    "        even.append(i)\n",
    "\n",
    "print(even)"
   ]
  },
  {
   "cell_type": "markdown",
   "id": "efa09181",
   "metadata": {},
   "source": [
    "same things we can do in list comprehension "
   ]
  },
  {
   "cell_type": "code",
   "execution_count": null,
   "id": "f5dc035e",
   "metadata": {},
   "outputs": [
    {
     "name": "stdout",
     "output_type": "stream",
     "text": [
      "[0, 2, 4, 6, 8]\n"
     ]
    }
   ],
   "source": [
    "even=[x for x in range(10) if x%2==0]\n",
    "print(even)"
   ]
  },
  {
   "cell_type": "code",
   "execution_count": null,
   "id": "b487823d",
   "metadata": {},
   "outputs": [
    {
     "name": "stdout",
     "output_type": "stream",
     "text": [
      "['Banana', 'Orange', 'Mango', 'Lemon']\n"
     ]
    }
   ],
   "source": [
    "fruits=[\"banana\",'orange','mango','lemon']\n",
    "c=[]\n",
    "for i in fruits:\n",
    " c.append(i.capitalize())\n",
    "\n",
    "print(c)"
   ]
  },
  {
   "cell_type": "markdown",
   "id": "302e490d",
   "metadata": {},
   "source": [
    "but in list compression we can do it  in a simple way\n"
   ]
  },
  {
   "cell_type": "code",
   "execution_count": null,
   "id": "c20b698c",
   "metadata": {},
   "outputs": [
    {
     "name": "stdout",
     "output_type": "stream",
     "text": [
      "['banana', 'orange', 'mango', 'lemon']\n"
     ]
    }
   ],
   "source": [
    "lower=[fruit.lower() for fruit in fruits]\n",
    "print(lower)"
   ]
  },
  {
   "cell_type": "code",
   "execution_count": null,
   "id": "6691b9a3",
   "metadata": {},
   "outputs": [
    {
     "name": "stdout",
     "output_type": "stream",
     "text": [
      "['BANANA', 'ORANGE', 'MANGO', 'LEMON']\n"
     ]
    }
   ],
   "source": [
    "upper=[fruit.upper() for fruit in fruits]\n",
    "print(upper)"
   ]
  },
  {
   "cell_type": "code",
   "execution_count": null,
   "id": "1c2c2d8c",
   "metadata": {},
   "outputs": [
    {
     "name": "stdout",
     "output_type": "stream",
     "text": [
      "['what', 'is', 'life', 'guys']\n",
      "what\n",
      "is\n",
      "life\n",
      "guys\n",
      "what is life guys\n"
     ]
    }
   ],
   "source": [
    "promt=\"what is life guys \"\n",
    "token=promt.split()\n",
    "print(token)\n",
    "\n",
    "for i in token:\n",
    "    print(i)\n",
    "\n",
    "string=\" \".join(token)\n",
    "print(string)\n"
   ]
  },
  {
   "cell_type": "markdown",
   "id": "13c35721",
   "metadata": {},
   "source": [
    "here we take input as a list y using split ()"
   ]
  },
  {
   "cell_type": "code",
   "execution_count": null,
   "id": "48b6749e",
   "metadata": {},
   "outputs": [
    {
     "name": "stdout",
     "output_type": "stream",
     "text": [
      "['hu', 'my', 'name']\n"
     ]
    }
   ],
   "source": [
    "n=input(\"ente a string : \")\n",
    "\n",
    "a=n.split()\n",
    "print(a)"
   ]
  },
  {
   "cell_type": "markdown",
   "id": "4a46ed3b",
   "metadata": {},
   "source": [
    "list method "
   ]
  },
  {
   "cell_type": "code",
   "execution_count": null,
   "id": "df2f0fc8",
   "metadata": {},
   "outputs": [
    {
     "name": "stdout",
     "output_type": "stream",
     "text": [
      "[10, 20, 30, 40, 50, 60, 80]\n",
      "[100, 10, 20, 30, 40, 50, 60, 80]\n",
      "[10, 20, 30, 40, 50, 60, 80]\n",
      "[10, 20, 30, 40, 50, 60, 80]\n",
      "[80, 60, 50, 40, 30, 20, 10]\n",
      "[80, 60, 50, 40, 30, 20]\n",
      "80\n"
     ]
    }
   ],
   "source": [
    "lst=[10,20,30,40,50,60]\n",
    "lst.append(80)\n",
    "\n",
    "print(lst)\n",
    "\n",
    "lst.insert(0,100)\n",
    "print(lst)\n",
    "lst.pop(0)#give here index value not given value \n",
    "print(lst)\n",
    "lst.sort()\n",
    "print(lst)\n",
    "lst.reverse()\n",
    "print(lst)\n",
    "lst.remove(10)\n",
    "print(lst)\n",
    "print(lst[0])"
   ]
  },
  {
   "cell_type": "markdown",
   "id": "cdd78b7b",
   "metadata": {},
   "source": [
    "TUPLE"
   ]
  },
  {
   "cell_type": "markdown",
   "id": "c43d5081",
   "metadata": {},
   "source": [
    "IN Python "
   ]
  },
  {
   "cell_type": "code",
   "execution_count": null,
   "id": "62085f2d",
   "metadata": {},
   "outputs": [
    {
     "name": "stdout",
     "output_type": "stream",
     "text": [
      "(10, 23, 'arman', True)\n"
     ]
    },
    {
     "ename": "TypeError",
     "evalue": "'tuple' object does not support item assignment",
     "output_type": "error",
     "traceback": [
      "\u001b[31m---------------------------------------------------------------------------\u001b[39m",
      "\u001b[31mTypeError\u001b[39m                                 Traceback (most recent call last)",
      "\u001b[36mCell\u001b[39m\u001b[36m \u001b[39m\u001b[32mIn[30]\u001b[39m\u001b[32m, line 3\u001b[39m\n\u001b[32m      1\u001b[39m tuo=(\u001b[32m10\u001b[39m,\u001b[32m23\u001b[39m,\u001b[33m'\u001b[39m\u001b[33marman\u001b[39m\u001b[33m'\u001b[39m,\u001b[38;5;28;01mTrue\u001b[39;00m)\n\u001b[32m      2\u001b[39m \u001b[38;5;28mprint\u001b[39m(tuo)\n\u001b[32m----> \u001b[39m\u001b[32m3\u001b[39m \u001b[43mtuo\u001b[49m\u001b[43m[\u001b[49m\u001b[32;43m0\u001b[39;49m\u001b[43m]\u001b[49m=\u001b[32m100\u001b[39m\n\u001b[32m      4\u001b[39m \u001b[38;5;28mprint\u001b[39m(tao)\n",
      "\u001b[31mTypeError\u001b[39m: 'tuple' object does not support item assignment"
     ]
    }
   ],
   "source": [
    "tuo=(10,23,'arman',True)\n",
    "print(tuo)\n",
    "tuo[0]=100\n",
    "print(tuo)#tuple  are immautable"
   ]
  },
  {
   "cell_type": "markdown",
   "id": "6783200d",
   "metadata": {},
   "source": [
    "dictionary in python and it a method and iteration "
   ]
  },
  {
   "cell_type": "markdown",
   "id": "762e93be",
   "metadata": {},
   "source": [
    "Dictionay view method in python "
   ]
  },
  {
   "cell_type": "code",
   "execution_count": null,
   "id": "d8d27832",
   "metadata": {},
   "outputs": [
    {
     "name": "stdout",
     "output_type": "stream",
     "text": [
      "dict_keys(['ID', 'name', 'age'])\n",
      "dict_values([231061008, 'arman', 20])\n",
      "ID 231061008\n",
      "name arman\n",
      "age 20\n"
     ]
    }
   ],
   "source": [
    "dic={'ID':231061008,'name':'arman','age':20}\n",
    "key=dic.keys()\n",
    "print(key)\n",
    "print(dic.values())\n",
    "for key,value in dic.items():\n",
    "    print(key,value)"
   ]
  },
  {
   "cell_type": "code",
   "execution_count": null,
   "id": "518c7684",
   "metadata": {},
   "outputs": [
    {
     "name": "stdout",
     "output_type": "stream",
     "text": [
      "{0: 0, 2: 4, 4: 16, 6: 36, 8: 64}\n"
     ]
    }
   ],
   "source": [
    "#dictionanry comprehension\n",
    "square={x:x**2 for x in range(10)if x%2==0}\n",
    "print(square)"
   ]
  },
  {
   "cell_type": "code",
   "execution_count": null,
   "id": "fba8882a",
   "metadata": {},
   "outputs": [
    {
     "name": "stdout",
     "output_type": "stream",
     "text": [
      "{(10, 20, 30): 'Dhaka', (30, 56, 89): 'comilla', (45, 56, 90): 'uk'}\n",
      "[(10, 20, 30), (30, 56, 89), (45, 56, 90)]\n"
     ]
    }
   ],
   "source": [
    "co=[(10,20,30),(30,56,89),(45,56,90)]\n",
    "lo=['Dhaka','comilla','uk']\n",
    "exact_location={cor:loc for cor,loc in zip(co,lo) }\n",
    "print(exact_location)\n",
    "print(co)"
   ]
  },
  {
   "cell_type": "markdown",
   "id": "540c2423",
   "metadata": {},
   "source": [
    "given a string  print the freguncy of the word "
   ]
  },
  {
   "cell_type": "code",
   "execution_count": null,
   "id": "04bfd4f8",
   "metadata": {},
   "outputs": [
    {
     "name": "stdout",
     "output_type": "stream",
     "text": [
      "['Hi', 'my', 'name', 'is', 'Arman', '.', 'Recently', 'I', 'learn', 'about', 'machine', 'learning', 'so', 'i', 'decided', 'to', 'learn', 'python', 'basic']\n"
     ]
    }
   ],
   "source": [
    "message=\"\"\"Hi my name is Arman . Recently I learn about machine learning so i decided to learn python basic \"\"\"\n",
    "words=message.split()\n",
    "print(words)#creat this string into token "
   ]
  },
  {
   "cell_type": "code",
   "execution_count": null,
   "id": "3e9b5808",
   "metadata": {},
   "outputs": [
    {
     "name": "stdout",
     "output_type": "stream",
     "text": [
      "{'Hi': 1, 'my': 1, 'name': 1, 'is': 1, 'Arman': 1, '.': 1, 'Recently': 1, 'I': 1, 'learn': 2, 'about': 1, 'machine': 1, 'learning': 1, 'so': 1, 'i': 1, 'decided': 1, 'to': 1, 'python': 1, 'basic': 1}\n"
     ]
    }
   ],
   "source": [
    "count={}\n",
    "for word in words:\n",
    "    count[word]=count.get(word,0)+1\n",
    "print(count)"
   ]
  },
  {
   "cell_type": "code",
   "execution_count": null,
   "id": "cf2a2a37",
   "metadata": {},
   "outputs": [
    {
     "name": "stdout",
     "output_type": "stream",
     "text": [
      "[78, 67, 56, 45, 23, 3, 1]\n",
      "[1, 3, 23, 45, 56, 67, 78]\n"
     ]
    }
   ],
   "source": [
    "lst=[1,23,45,67,78,3,56]\n",
    "lst.sort(reverse=True)#decending order print korbe boro theke choto \n",
    "print(lst)\n",
    "lst.sort()\n",
    "print(lst)"
   ]
  },
  {
   "cell_type": "markdown",
   "id": "869a6d16",
   "metadata": {},
   "source": [
    "Problem 2: Sort Students by Marks (Tuple + Dictionary)\n",
    "Problem:\n",
    " You are given a list of tuples — each containing a student’s name and mark.\n",
    " Sort them in descending order of marks and print the top 3 scorers.\n",
    "Example Input:\n",
    "students = [(\"Rafi\", 89), (\"Sumi\", 95), (\"Hasan\", 90), (\"Nila\", 75), (\"Anik\", 98)]\n",
    "\n",
    "Expected Output:\n",
    "Top 3 students:\n",
    "Anik - 98\n",
    "Sumi - 95\n",
    "Hasan - 90\n"
   ]
  },
  {
   "cell_type": "code",
   "execution_count": null,
   "id": "4213a39b",
   "metadata": {},
   "outputs": [
    {
     "name": "stdout",
     "output_type": "stream",
     "text": [
      "{'Rafi': 89, 'Sumi': 95, 'Hasan': 90, 'Nila': 75, 'Anik': 98}\n",
      "[[89, 'Rafi'], [95, 'Sumi'], [90, 'Hasan'], [75, 'Nila'], [98, 'Anik']]\n",
      "Top 3 students:\n",
      "Anik - 98\n",
      "Sumi - 95\n",
      "Hasan - 90\n"
     ]
    }
   ],
   "source": [
    "students = [(\"Rafi\", 89), (\"Sumi\", 95), (\"Hasan\", 90), (\"Nila\", 75), (\"Anik\", 98)]\n",
    "\n",
    "# Step 1: Convert list of tuples into a dictionary\n",
    "marks_dict = dict(students)\n",
    "print(marks_dict)\n",
    "\n",
    "# Step 2: Prepare for sorting\n",
    "sorted_students = []\n",
    "for name, mark in marks_dict.items():\n",
    "    sorted_students.append([mark, name])  # put mark first\n",
    "print(sorted_students)\n",
    "\n",
    "sorted_students.sort(reverse=True)  # sort descending by mark\n",
    "\n",
    "# Step 3: Print top 3\n",
    "print(\"Top 3 students:\")\n",
    "for i in range(3):\n",
    "    mark, name = sorted_students[i]\n",
    "    print(f\"{name} - {mark}\")\n",
    "\n",
    "\n"
   ]
  },
  {
   "cell_type": "code",
   "execution_count": null,
   "id": "30442737",
   "metadata": {},
   "outputs": [
    {
     "name": "stdout",
     "output_type": "stream",
     "text": [
      "[10, 90, 89, 78] [34, 67, 45, 34]\n"
     ]
    }
   ],
   "source": [
    "#function \n",
    "\n",
    "#unpacking \n",
    "def greet():\n",
    "    a=[10,90,89,78]\n",
    "    b=[34,67,45,34]\n",
    "\n",
    "    return a,b\n",
    "\n",
    "#unpacking\n",
    "x,y=greet()\n",
    "print(x,y)"
   ]
  },
  {
   "cell_type": "markdown",
   "id": "bc795ff8",
   "metadata": {},
   "source": [
    "iterator in python "
   ]
  },
  {
   "cell_type": "code",
   "execution_count": null,
   "id": "6b96f928",
   "metadata": {},
   "outputs": [
    {
     "name": "stdout",
     "output_type": "stream",
     "text": [
      "10\n",
      "20\n"
     ]
    }
   ],
   "source": [
    "lst = [10,20,30,40,50,60,70,80,90,100]\n",
    "my_iter = iter(lst)\n",
    "print(next(my_iter))\n",
    "print(next(my_iter))"
   ]
  },
  {
   "cell_type": "markdown",
   "id": "2a427321",
   "metadata": {},
   "source": [
    "generator in python"
   ]
  },
  {
   "cell_type": "code",
   "execution_count": null,
   "id": "43f14763",
   "metadata": {},
   "outputs": [
    {
     "name": "stdout",
     "output_type": "stream",
     "text": [
      "[0, 1, 2, 3, 4]\n",
      "[5, 6, 7, 8, 9]\n"
     ]
    }
   ],
   "source": [
    "def data_loader(size,lst):\n",
    "    for i in range(0,len(lst),size):\n",
    "        yield lst[i:i+size]\n",
    "lst=[x for x in range(100)]\n",
    "x=data_loader(5,lst)\n",
    "print(next(x))\n",
    "print(next(x))\n",
    "#in a specific portion we want to see by generator\n",
    "\n"
   ]
  },
  {
   "cell_type": "markdown",
   "id": "8ef29745",
   "metadata": {},
   "source": [
    "lambda function "
   ]
  },
  {
   "cell_type": "code",
   "execution_count": null,
   "id": "57f80ce7",
   "metadata": {},
   "outputs": [
    {
     "name": "stdout",
     "output_type": "stream",
     "text": [
      "9\n"
     ]
    }
   ],
   "source": [
    "#normal way \n",
    "def square(a):\n",
    "    return a**2\n",
    "print(square(3))"
   ]
  },
  {
   "cell_type": "code",
   "execution_count": null,
   "id": "4910a2e3",
   "metadata": {},
   "outputs": [
    {
     "name": "stdout",
     "output_type": "stream",
     "text": [
      "9\n"
     ]
    }
   ],
   "source": [
    "#same things we can do by lanbda function here we dont want to return anythings \n",
    "\n",
    "square=lambda x:x**2\n",
    "print(square(3))"
   ]
  },
  {
   "cell_type": "code",
   "execution_count": null,
   "id": "7c99b4b4",
   "metadata": {},
   "outputs": [
    {
     "name": "stdout",
     "output_type": "stream",
     "text": [
      "True\n"
     ]
    }
   ],
   "source": [
    "if_even=lambda x:x%2==0\n",
    "print(if_even(4))"
   ]
  },
  {
   "cell_type": "markdown",
   "id": "a8071af8",
   "metadata": {},
   "source": [
    "MAP "
   ]
  },
  {
   "cell_type": "code",
   "execution_count": null,
   "id": "67f5470a",
   "metadata": {},
   "outputs": [
    {
     "name": "stdout",
     "output_type": "stream",
     "text": [
      "45 45 67\n"
     ]
    }
   ],
   "source": [
    "#multiple input with map function\n",
    "a,b,c=map(int,input(\"enter three numbers :\").split())\n",
    "print(a,b,c)"
   ]
  },
  {
   "cell_type": "code",
   "execution_count": null,
   "id": "7d8b526d",
   "metadata": {},
   "outputs": [
    {
     "name": "stdout",
     "output_type": "stream",
     "text": [
      "[144, 1156, 3249]\n"
     ]
    }
   ],
   "source": [
    "lst = [12, 34, 57]\n",
    "\n",
    "def square(x):\n",
    "    return x**2\n",
    "\n",
    "lst = list(map(square, lst))  # function এবং iterable আলাদা আর্গুমেন্ট\n",
    "print(lst)\n",
    "\n"
   ]
  },
  {
   "cell_type": "code",
   "execution_count": null,
   "id": "e4927548",
   "metadata": {},
   "outputs": [
    {
     "name": "stdout",
     "output_type": "stream",
     "text": [
      "[1, 4, 3, 16, 5, 36, 7]\n"
     ]
    }
   ],
   "source": [
    "lst=[1,2,3,4,5,6,7]\n",
    "lst1=list(map(lambda x:x**2 if x%2==0 else x,lst))\n",
    "print(lst1)"
   ]
  },
  {
   "cell_type": "markdown",
   "id": "621c22c4",
   "metadata": {},
   "source": [
    "Filter in python"
   ]
  },
  {
   "cell_type": "code",
   "execution_count": null,
   "id": "f7c725d6",
   "metadata": {},
   "outputs": [
    {
     "name": "stdout",
     "output_type": "stream",
     "text": [
      "[0, 1, 2, 3, 4, 5, 6, 7, 8, 9, 10, 11, 12, 13, 14, 15, 16, 17, 18, 19]\n",
      "[0, 2, 4, 6, 8, 10, 12, 14, 16, 18]\n"
     ]
    }
   ],
   "source": [
    "num=[x for x in range(20)]\n",
    "print(num)\n",
    "even=list(filter(lambda x:x%2==0,num))\n",
    "print(even)"
   ]
  },
  {
   "cell_type": "code",
   "execution_count": null,
   "id": "941d2566",
   "metadata": {},
   "outputs": [
    {
     "name": "stdout",
     "output_type": "stream",
     "text": [
      "['arman', 'showon', 'dhaka', 'bangladesh']\n"
     ]
    }
   ],
   "source": [
    "l=[\"arman\",\"showon\",\"dhaka\",\"bangladesh\"]\n",
    "\n",
    "lst=list(filter(lambda x: len(x)>4,l))\n",
    "print(lst)"
   ]
  },
  {
   "cell_type": "markdown",
   "id": "99426c32",
   "metadata": {},
   "source": [
    "Problem 3: Word Length Filter (Lambda + Filter)\n",
    "\n"
   ]
  },
  {
   "cell_type": "markdown",
   "id": "ad2b9a30",
   "metadata": {},
   "source": [
    "Problem:\n"
   ]
  },
  {
   "cell_type": "markdown",
   "id": "f7000480",
   "metadata": {},
   "source": [
    " Given a list of words, use filter() and lambda to return only words whose length is greater than 4.\n"
   ]
  },
  {
   "cell_type": "markdown",
   "id": "7e358dbd",
   "metadata": {},
   "source": [
    " Example Input:\n"
   ]
  },
  {
   "cell_type": "markdown",
   "id": "676cccbd",
   "metadata": {},
   "source": [
    "words = [\"sun\", \"planet\", \"moon\", \"star\", \"universe\"]\n"
   ]
  },
  {
   "cell_type": "markdown",
   "id": "dd441f42",
   "metadata": {},
   "source": [
    "\n",
    "Expected Output:\n"
   ]
  },
  {
   "cell_type": "markdown",
   "id": "9d6f909a",
   "metadata": {},
   "source": [
    "['planet', 'universe']"
   ]
  },
  {
   "cell_type": "code",
   "execution_count": null,
   "id": "9bfb481d",
   "metadata": {},
   "outputs": [
    {
     "name": "stdout",
     "output_type": "stream",
     "text": [
      "['planet', 'universe']\n"
     ]
    }
   ],
   "source": [
    "words = [\"sun\", \"planet\", \"moon\", \"star\", \"universe\"]\n",
    "lst=list(filter(lambda x: len(x)>4,words))\n",
    "print(lst)"
   ]
  },
  {
   "cell_type": "markdown",
   "id": "3b54b150",
   "metadata": {},
   "source": [
    "Problem 4: Square of Even Numbers (Map + Filter + Lambda)\n",
    "Problem:\n",
    " Write a one-line Python expression using map(), filter(), and lambda that takes a list of integers and returns the squares of even numbers only.\n",
    "Example Input:\n",
    "nums = [1, 2, 3, 4, 5, 6]\n",
    "\n",
    "Expected Output:\n",
    "[4, 16, 36]\n"
   ]
  },
  {
   "cell_type": "code",
   "execution_count": null,
   "id": "174eb77c",
   "metadata": {},
   "outputs": [
    {
     "name": "stdout",
     "output_type": "stream",
     "text": [
      "[4, 16, 36]\n"
     ]
    }
   ],
   "source": [
    "nums = [1, 2, 3, 4, 5, 6]\n",
    "result = list(map(lambda x: x**2, filter(lambda x: x % 2 == 0, nums)))\n",
    "print(result)\n"
   ]
  },
  {
   "cell_type": "code",
   "execution_count": null,
   "id": "7d2e5bbc",
   "metadata": {},
   "outputs": [
    {
     "name": "stdout",
     "output_type": "stream",
     "text": [
      "['a', 'a']\n"
     ]
    }
   ],
   "source": [
    "s=\"arman\"\n",
    "\n",
    "vowel=list(filter(lambda x: x in \"aeiou\",s))\n",
    "print(vowel)"
   ]
  },
  {
   "cell_type": "code",
   "execution_count": null,
   "id": "9b0c9d0f",
   "metadata": {},
   "outputs": [
    {
     "ename": "TypeError",
     "evalue": "'list' object is not callable",
     "output_type": "error",
     "traceback": [
      "\u001b[31m---------------------------------------------------------------------------\u001b[39m",
      "\u001b[31mTypeError\u001b[39m                                 Traceback (most recent call last)",
      "\u001b[36mCell\u001b[39m\u001b[36m \u001b[39m\u001b[32mIn[9]\u001b[39m\u001b[32m, line 4\u001b[39m\n\u001b[32m      1\u001b[39m fruits=[\u001b[33m\"\u001b[39m\u001b[33mapple\u001b[39m\u001b[33m\"\u001b[39m,\u001b[33m\"\u001b[39m\u001b[33mbanana\u001b[39m\u001b[33m\"\u001b[39m,\u001b[33m\"\u001b[39m\u001b[33mlichi\u001b[39m\u001b[33m\"\u001b[39m,\u001b[33m\"\u001b[39m\u001b[33mmango\u001b[39m\u001b[33m\"\u001b[39m]\n\u001b[32m      3\u001b[39m fr=\u001b[38;5;28mlist\u001b[39m(\u001b[38;5;28mfilter\u001b[39m(\u001b[38;5;28;01mlambda\u001b[39;00m x:\u001b[38;5;28mlen\u001b[39m(x)>\u001b[32m2\u001b[39m,fruits))\n\u001b[32m----> \u001b[39m\u001b[32m4\u001b[39m \u001b[38;5;28;43mprint\u001b[39;49m\u001b[43m(\u001b[49m\u001b[43mfruits\u001b[49m\u001b[43m)\u001b[49m\n",
      "\u001b[31mTypeError\u001b[39m: 'list' object is not callable"
     ]
    }
   ],
   "source": [
    "fruits=[\"apple\",\"banana\",\"lichi\",\"mango\"]\n",
    "\n",
    "fr=list(filter(lambda x:len(x)>2,fruits))\n",
    "print(fruits)"
   ]
  },
  {
   "cell_type": "markdown",
   "id": "349a072f",
   "metadata": {},
   "source": [
    "reduce in python "
   ]
  },
  {
   "cell_type": "code",
   "execution_count": null,
   "id": "aa410978",
   "metadata": {},
   "outputs": [
    {
     "name": "stdout",
     "output_type": "stream",
     "text": [
      "3592\n"
     ]
    }
   ],
   "source": [
    "from functools import reduce\n",
    "\n",
    "lst=[12,34,56,23,56,78,3333]\n",
    "\n",
    "sum=reduce(lambda x,y: x+y,lst)\n",
    "print(sum)"
   ]
  },
  {
   "cell_type": "code",
   "execution_count": null,
   "id": "c4a3acc9",
   "metadata": {},
   "outputs": [
    {
     "name": "stdout",
     "output_type": "stream",
     "text": [
      "3333\n"
     ]
    }
   ],
   "source": [
    "max=reduce(lambda x,y: x if x>y else y,lst)\n",
    "print(max)"
   ]
  },
  {
   "cell_type": "code",
   "execution_count": null,
   "id": "4602adcf",
   "metadata": {},
   "outputs": [
    {
     "name": "stdout",
     "output_type": "stream",
     "text": [
      "hello Arman\n"
     ]
    }
   ],
   "source": [
    "str=['hello','Arman']\n",
    "con=reduce(lambda x,y:x+ \" \"+y,str)\n",
    "print(con)"
   ]
  },
  {
   "cell_type": "markdown",
   "id": "fda38f61",
   "metadata": {},
   "source": [
    "Exception handeling (Error handeling)"
   ]
  },
  {
   "cell_type": "code",
   "execution_count": null,
   "id": "1c56256c",
   "metadata": {},
   "outputs": [
    {
     "name": "stdout",
     "output_type": "stream",
     "text": [
      "some input error\n",
      "the code is run successfully\n",
      "there is no error in this code\n"
     ]
    }
   ],
   "source": [
    "try:\n",
    " a=int(input(\"enter a number :\"))\n",
    " print(f\"Multipication table of{a} is :\")\n",
    " for i in range(1,11):\n",
    "    print(f\"{a}*{i}={a*i}\")\n",
    "except Exception as e:\n",
    " print(\"some input error\")\n",
    "\n",
    " print(\"the code is run successfully\")\n",
    "print(\"there is no error in this code\")"
   ]
  },
  {
   "cell_type": "markdown",
   "id": "4678e2df",
   "metadata": {},
   "source": [
    "Finally in python with file handeling concept"
   ]
  },
  {
   "cell_type": "code",
   "execution_count": null,
   "id": "57e9c8db",
   "metadata": {},
   "outputs": [
    {
     "name": "stdout",
     "output_type": "stream",
     "text": [
      "[Errno 2] No such file or directory: 'data1.txt'\n",
      "Gpu is stopped\n"
     ]
    }
   ],
   "source": [
    "# model train\n",
    "\n",
    "\n",
    "try:\n",
    "  file = open(\"data1.txt\",\"r\")\n",
    "except Exception as e:\n",
    "  print(e)\n",
    "else:\n",
    "  # model train\n",
    "  print(file.read())\n",
    "finally:\n",
    "  print(\"Gpu is stopped\")"
   ]
  },
  {
   "cell_type": "markdown",
   "id": "b7ff7ae1",
   "metadata": {},
   "source": [
    "Raising custom error in python "
   ]
  },
  {
   "cell_type": "code",
   "execution_count": null,
   "id": "ec130eca",
   "metadata": {},
   "outputs": [
    {
     "name": "stdout",
     "output_type": "stream",
     "text": [
      "4\n"
     ]
    }
   ],
   "source": [
    "a=int(input(\"enter a number between 5 and 9 :\"))\n",
    "\n",
    "if a<5 and a>9:\n",
    "    raise ValueError(\"Value should be between 5 and 9\")\n",
    "\n",
    "print(a)"
   ]
  },
  {
   "cell_type": "markdown",
   "id": "c6f7e632",
   "metadata": {},
   "source": [
    "OOP IN PYTHON PROGRAMMING LANGUAGE |"
   ]
  },
  {
   "cell_type": "markdown",
   "id": "c2508813",
   "metadata": {},
   "source": [
    "CLASS AND CLASS OBJECT  "
   ]
  },
  {
   "cell_type": "markdown",
   "id": "80dfc571",
   "metadata": {},
   "source": [
    "CLASS ATTRIBUTE AND INSTANCE ATTRIBUTE "
   ]
  },
  {
   "cell_type": "markdown",
   "id": "5841ffc8",
   "metadata": {},
   "source": [
    "class attribute "
   ]
  },
  {
   "cell_type": "code",
   "execution_count": null,
   "id": "e14e4753",
   "metadata": {},
   "outputs": [
    {
     "name": "stdout",
     "output_type": "stream",
     "text": [
      "electronics\n"
     ]
    }
   ],
   "source": [
    "class Phone:\n",
    "    catagory=\"electronics\"\n",
    "\n",
    "apple=Phone()\n",
    "print(apple.catagory)"
   ]
  },
  {
   "cell_type": "markdown",
   "id": "0efd5909",
   "metadata": {},
   "source": [
    "instance attributes"
   ]
  },
  {
   "cell_type": "code",
   "execution_count": null,
   "id": "6077ceb6",
   "metadata": {},
   "outputs": [
    {
     "name": "stdout",
     "output_type": "stream",
     "text": [
      "10000\n",
      "100\n",
      "34\n",
      "abc\n"
     ]
    }
   ],
   "source": [
    "class Phone:\n",
    "    def __init__(self,model,battery,camera,battery_charge=100):\n",
    "        self.model=model\n",
    "        self.battery=battery\n",
    "        self.camera=camera\n",
    "        self.battery_charge=battery_charge\n",
    "apple=Phone(\"abc\",10000,34)\n",
    "print(apple.battery)\n",
    "print(apple.battery_charge)\n",
    "print(apple.camera)\n",
    "print(apple.model)\n",
    "\n"
   ]
  },
  {
   "cell_type": "markdown",
   "id": "c94ab075",
   "metadata": {},
   "source": [
    "Method in class "
   ]
  },
  {
   "cell_type": "code",
   "execution_count": null,
   "id": "36bd645f",
   "metadata": {},
   "outputs": [
    {
     "name": "stdout",
     "output_type": "stream",
     "text": [
      "Photo capture in abc\n",
      "112\n"
     ]
    }
   ],
   "source": [
    "class Phone:\n",
    "    def __init__(self,model,battery,camera,battery_charge=100):\n",
    "        self.model=model\n",
    "        self.battery=battery\n",
    "        self.camera=camera\n",
    "        self.battery_charge=battery_charge\n",
    "\n",
    "    def charge(self,hour):\n",
    "        self.battery_charge +=hour\n",
    "        print(f'charge completed by {hour}')\n",
    "\n",
    "    def capture(self,totall_photo):\n",
    "        if(self.battery_charge)<=0:\n",
    "            print(\"No charge\")\n",
    "        else:\n",
    "            self.battery_charge-=totall_photo\n",
    "            print(f\"Photo capture in {self.model}\")    \n",
    "\n",
    "apple=Phone(\"abc\",10000,34)\n",
    "apple.capture(-12)\n",
    "print(apple.battery_charge)\n",
    "\n"
   ]
  },
  {
   "cell_type": "markdown",
   "id": "fec0d707",
   "metadata": {},
   "source": [
    "Inheritance "
   ]
  },
  {
   "cell_type": "markdown",
   "id": "6c761299",
   "metadata": {},
   "source": [
    "#childclass"
   ]
  },
  {
   "cell_type": "code",
   "execution_count": null,
   "id": "33297b2c",
   "metadata": {},
   "outputs": [
    {
     "name": "stdout",
     "output_type": "stream",
     "text": [
      "ww\n",
      "first charging in process\n",
      "charge completed by 1\n"
     ]
    }
   ],
   "source": [
    "class smartPhone(Phone):\n",
    "    def __init__(self,model,battery,camera,processor):\n",
    "        super(). __init__(model,battery,camera)#here we dont need to self paremeter\n",
    "\n",
    "        self.processor=processor\n",
    "\n",
    "    def charge(self,hour):\n",
    "        print(\"first charging in process\")\n",
    "        super().charge (hour)\n",
    "\n",
    "\n",
    "\n",
    "pro=smartPhone(\"ww\",5000,100,\"snapDragon\")\n",
    "\n",
    "print(pro.model)\n",
    "pro.charge(1)"
   ]
  },
  {
   "cell_type": "markdown",
   "id": "9e4a3f49",
   "metadata": {},
   "source": [
    "multiple inheritance"
   ]
  },
  {
   "cell_type": "code",
   "execution_count": null,
   "id": "ddd19bc9",
   "metadata": {},
   "outputs": [],
   "source": [
    "class Colling_Mechanism:\n",
    "    def __init__(self,colling_method):\n",
    "        self.colling_method=colling_method\n",
    "\n",
    "#method\n",
    "    def coling_on(self):\n",
    "        print(f'the system is being cool by {self.colling_method}')\n"
   ]
  },
  {
   "cell_type": "code",
   "execution_count": null,
   "id": "487117c4",
   "metadata": {},
   "outputs": [],
   "source": [
    "class smartphonWithCooling_mood(smartPhone,Colling_Mechanism):\n",
    "    def __init__(self,model,battery,camera,processor,cooling_method):\n",
    "\n",
    "        smartPhone. __init__(self,model,battery,camera,processor)\n",
    "        Colling_Mechanism. init__(self,cooling_method)"
   ]
  },
  {
   "cell_type": "code",
   "execution_count": null,
   "id": "49ca715f",
   "metadata": {},
   "outputs": [
    {
     "ename": "TypeError",
     "evalue": "'tuple' object is not callable",
     "output_type": "error",
     "traceback": [
      "\u001b[31m---------------------------------------------------------------------------\u001b[39m",
      "\u001b[31mTypeError\u001b[39m                                 Traceback (most recent call last)",
      "\u001b[36mCell\u001b[39m\u001b[36m \u001b[39m\u001b[32mIn[41]\u001b[39m\u001b[32m, line 1\u001b[39m\n\u001b[32m----> \u001b[39m\u001b[32m1\u001b[39m proColling=\u001b[43msmartphonWithCooling_mood\u001b[49m\u001b[43m(\u001b[49m\u001b[33;43m\"\u001b[39;49m\u001b[33;43my\u001b[39;49m\u001b[33;43m\"\u001b[39;49m\u001b[43m,\u001b[49m\u001b[43m \u001b[49m\u001b[32;43m5000\u001b[39;49m\u001b[43m,\u001b[49m\u001b[43m \u001b[49m\u001b[32;43m100\u001b[39;49m\u001b[43m,\u001b[49m\u001b[43m \u001b[49m\u001b[33;43m'\u001b[39;49m\u001b[33;43msD\u001b[39;49m\u001b[33;43m'\u001b[39;49m\u001b[43m,\u001b[49m\u001b[43m \u001b[49m\u001b[33;43m\"\u001b[39;49m\u001b[33;43mliquid\u001b[39;49m\u001b[33;43m\"\u001b[39;49m\u001b[43m)\u001b[49m\n",
      "\u001b[31mTypeError\u001b[39m: 'tuple' object is not callable"
     ]
    }
   ],
   "source": [
    "proColling=smartphonWithCooling_mood(\"y\", 5000, 100, 'sD', \"liquid\")\n",
    "\n"
   ]
  },
  {
   "cell_type": "markdown",
   "id": "4e2a8b39",
   "metadata": {},
   "source": [
    "oop mini project"
   ]
  },
  {
   "cell_type": "markdown",
   "id": "0c44061e",
   "metadata": {},
   "source": [
    "balance "
   ]
  },
  {
   "cell_type": "markdown",
   "id": "6c33f7af",
   "metadata": {},
   "source": [
    "name"
   ]
  },
  {
   "cell_type": "markdown",
   "id": "dbe1f2b1",
   "metadata": {},
   "source": [
    "ac_no\n"
   ]
  },
  {
   "cell_type": "markdown",
   "id": "31919bd6",
   "metadata": {},
   "source": [
    "bank_name"
   ]
  },
  {
   "cell_type": "markdown",
   "id": "e7b1e354",
   "metadata": {},
   "source": []
  },
  {
   "cell_type": "markdown",
   "id": "4a664634",
   "metadata": {},
   "source": [
    "get_balance()"
   ]
  },
  {
   "cell_type": "markdown",
   "id": "57525e46",
   "metadata": {},
   "source": [
    "deposit()"
   ]
  },
  {
   "cell_type": "markdown",
   "id": "fd54079f",
   "metadata": {},
   "source": [
    "withdraw()"
   ]
  },
  {
   "cell_type": "markdown",
   "id": "17924ac5",
   "metadata": {},
   "source": []
  }
 ],
 "metadata": {
  "kernelspec": {
   "display_name": "Python 3",
   "language": "python",
   "name": "python3"
  },
  "language_info": {
   "codemirror_mode": {
    "name": "ipython",
    "version": 3
   },
   "file_extension": ".py",
   "mimetype": "text/x-python",
   "name": "python",
   "nbconvert_exporter": "python",
   "pygments_lexer": "ipython3",
   "version": "3.13.7"
  }
 },
 "nbformat": 4,
 "nbformat_minor": 5
}
