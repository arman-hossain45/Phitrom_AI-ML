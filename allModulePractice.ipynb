{
 "cells": [
  {
   "cell_type": "code",
   "execution_count": 1,
   "id": "f31fb6a1",
   "metadata": {},
   "outputs": [
    {
     "name": "stdout",
     "output_type": "stream",
     "text": [
      " hey my name is arman hossain  , i want to dream in abroad . i alaways feel hasitation because I do\n",
      "dont know that i can do it\n"
     ]
    }
   ],
   "source": [
    "string=\"\"\" hey my name is arman hossain  , i want to dream in abroad . i alaways feel hasitation because I do\n",
    "dont know that i can do it\"\"\"\n",
    "print(string)"
   ]
  },
  {
   "cell_type": "code",
   "execution_count": 2,
   "id": "bb152fef",
   "metadata": {},
   "outputs": [
    {
     "name": "stdout",
     "output_type": "stream",
     "text": [
      "16\n"
     ]
    }
   ],
   "source": [
    "idx=string.find(\"arman\")\n",
    "print(idx)"
   ]
  },
  {
   "cell_type": "markdown",
   "id": "8deda2b1",
   "metadata": {},
   "source": [
    "#it there is a multiple string i want to see at last string of this multiple string \n"
   ]
  },
  {
   "cell_type": "code",
   "execution_count": 5,
   "id": "351b1ca9",
   "metadata": {},
   "outputs": [
    {
     "name": "stdout",
     "output_type": "stream",
     "text": [
      "121\n"
     ]
    }
   ],
   "source": [
    "id=string.rfind(\"do\")\n",
    "print(id)"
   ]
  },
  {
   "cell_type": "code",
   "execution_count": 6,
   "id": "26d84938",
   "metadata": {},
   "outputs": [
    {
     "name": "stdout",
     "output_type": "stream",
     "text": [
      "3\n"
     ]
    }
   ],
   "source": [
    "count=string.count(\"do\")\n",
    "print(count)"
   ]
  },
  {
   "cell_type": "code",
   "execution_count": 7,
   "id": "4d91df76",
   "metadata": {},
   "outputs": [
    {
     "name": "stdout",
     "output_type": "stream",
     "text": [
      " hey my name is arman hossain  , i want to dream in abroad . i alaways feel hasitation because I must\n",
      "mustnt know that i can must it\n"
     ]
    }
   ],
   "source": [
    "replace=string.replace(\"do\",\"must\")\n",
    "print(replace)"
   ]
  },
  {
   "cell_type": "markdown",
   "id": "6cdf15c8",
   "metadata": {},
   "source": [
    "#tokennization "
   ]
  },
  {
   "cell_type": "markdown",
   "id": "d7287b6f",
   "metadata": {},
   "source": [
    "#spliting,joining,formatted string"
   ]
  },
  {
   "cell_type": "code",
   "execution_count": 8,
   "id": "a256f284",
   "metadata": {},
   "outputs": [
    {
     "name": "stdout",
     "output_type": "stream",
     "text": [
      "b\n",
      "a\n",
      "n\n",
      "a\n",
      "n\n",
      "a\n"
     ]
    }
   ],
   "source": [
    "for x in \"banana\":\n",
    "  print(x)"
   ]
  },
  {
   "cell_type": "code",
   "execution_count": 9,
   "id": "48cd95bf",
   "metadata": {},
   "outputs": [
    {
     "name": "stdout",
     "output_type": "stream",
     "text": [
      "126\n"
     ]
    }
   ],
   "source": [
    "len=len(string)\n",
    "print(len)"
   ]
  },
  {
   "cell_type": "code",
   "execution_count": 10,
   "id": "21951c7b",
   "metadata": {},
   "outputs": [
    {
     "name": "stdout",
     "output_type": "stream",
     "text": [
      "True\n"
     ]
    }
   ],
   "source": [
    "txt=\"the best things in life are free\"\n",
    "print(\"free\" in txt)"
   ]
  },
  {
   "cell_type": "code",
   "execution_count": 12,
   "id": "f7de7c1a",
   "metadata": {},
   "outputs": [
    {
     "name": "stdout",
     "output_type": "stream",
     "text": [
      "no baby its not here  search another things \n"
     ]
    }
   ],
   "source": [
    "if \"arman\" in txt:\n",
    "    print(\"yes baby its here \")\n",
    "\n",
    "else:\n",
    "    print(\"no baby its not here  search another things \")"
   ]
  },
  {
   "cell_type": "code",
   "execution_count": 13,
   "id": "0aa002fb",
   "metadata": {},
   "outputs": [
    {
     "name": "stdout",
     "output_type": "stream",
     "text": [
      "True\n"
     ]
    }
   ],
   "source": [
    "print(\"arman\" not in txt)"
   ]
  },
  {
   "cell_type": "code",
   "execution_count": 18,
   "id": "28f5edd8",
   "metadata": {},
   "outputs": [
    {
     "name": "stdout",
     "output_type": "stream",
     "text": [
      " HELLO IAM RECENTY JOIN THE \n",
      "COURSE OF PYTHON AI/ML COURSE \n",
      " hello iam recenty join the \n",
      "course of python ai/ml course \n",
      " hello iam recenty join the \n",
      "course of python ai/ml course \n"
     ]
    }
   ],
   "source": [
    "message=\"\"\" hello Iam recenty join the \n",
    "course of python AI/ml course \"\"\"\n",
    "a=message\n",
    "print(a.upper())\n",
    "print(a.lower())\n",
    "print(a.capitalize())"
   ]
  },
  {
   "cell_type": "markdown",
   "id": "69f937de",
   "metadata": {},
   "source": [
    "এর মানে — যদি তোমার কোনো স্ট্রিং-এর শুরুতে বা শেষে অতিরিক্ত স্পেস বা কিছু নির্দিষ্ট চিহ্ন থাকে, তাহলে strip() সেগুলো সরিয়ে দেয়।"
   ]
  },
  {
   "cell_type": "code",
   "execution_count": 27,
   "id": "2af57435",
   "metadata": {},
   "outputs": [
    {
     "name": "stdout",
     "output_type": "stream",
     "text": [
      "my name is Arman\n"
     ]
    }
   ],
   "source": [
    "ar=\"                       \\r\\f my name is Arman \\n  \"\n",
    "print(ar.strip())"
   ]
  },
  {
   "cell_type": "code",
   "execution_count": null,
   "id": "be1ca930",
   "metadata": {},
   "outputs": [],
   "source": [
    "name = input(\"Enter your name: \")  # ধরো ইনপুট: \"  Arman  \"\n",
    "clean_name = name.strip()\n",
    "print(\"Welcome,\", clean_name)\n"
   ]
  }
 ],
 "metadata": {
  "kernelspec": {
   "display_name": "Python 3",
   "language": "python",
   "name": "python3"
  },
  "language_info": {
   "codemirror_mode": {
    "name": "ipython",
    "version": 3
   },
   "file_extension": ".py",
   "mimetype": "text/x-python",
   "name": "python",
   "nbconvert_exporter": "python",
   "pygments_lexer": "ipython3",
   "version": "3.13.7"
  }
 },
 "nbformat": 4,
 "nbformat_minor": 5
}
