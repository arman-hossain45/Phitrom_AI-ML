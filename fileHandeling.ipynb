{
 "cells": [
  {
   "cell_type": "code",
   "execution_count": 6,
   "id": "1b7d1743",
   "metadata": {},
   "outputs": [
    {
     "name": "stdout",
     "output_type": "stream",
     "text": [
      "hello test filehow is the learning going on ?\n"
     ]
    }
   ],
   "source": [
    "file=open(\"sample.txt\",'r')\n",
    "content=file.read()\n",
    "print(content)"
   ]
  },
  {
   "cell_type": "code",
   "execution_count": 17,
   "id": "a19be2cd",
   "metadata": {},
   "outputs": [],
   "source": [
    "with open(\"sample.txt\",'w') as file:\n",
    "    file.write(\"hello test file\\n\")\n",
    "    file.write(\"how is the learning going on ?\")\n",
    "    "
   ]
  },
  {
   "cell_type": "markdown",
   "id": "77184650",
   "metadata": {},
   "source": [
    "#append a file  "
   ]
  },
  {
   "cell_type": "code",
   "execution_count": 14,
   "id": "4f3ad420",
   "metadata": {},
   "outputs": [],
   "source": [
    "with open(\"sample.txt\",'a') as file:\n",
    "    file.write(\"hello test file \\n\")\n",
    "    file.write(\"how is the learning going on ?\\n\")\n",
    "    file.write(\"hey my name is arman I am from ml in phitron course with programming hero\")"
   ]
  },
  {
   "cell_type": "markdown",
   "id": "abfd6958",
   "metadata": {},
   "source": [
    "#convert into list"
   ]
  },
  {
   "cell_type": "code",
   "execution_count": 12,
   "id": "e2486d0d",
   "metadata": {},
   "outputs": [
    {
     "name": "stdout",
     "output_type": "stream",
     "text": [
      "['hello test filehow is the learning going on ?hello test filehow is the learning going on ?hey my name is arman I am from ml in phitron course with programming herohello test file', 'how is the learning going on ?hey my name is arman I am from ml in phitron course with programming herohello test file', 'how is the learning going on ?', 'hey my name is arman I am from ml in phitron course with programming hero']\n"
     ]
    }
   ],
   "source": [
    "file=open(\"sample.txt\",'r')\n",
    "content=file.readlines()\n",
    "content=list(map(str.strip,content))\n",
    "print(content)"
   ]
  },
  {
   "cell_type": "code",
   "execution_count": 13,
   "id": "2a209687",
   "metadata": {},
   "outputs": [],
   "source": [
    "strings=['hello','arman','how','is','going']\n",
    "with open (\"sample2.txt\",'a')as file:\n",
    "    file.writelines(strings)"
   ]
  },
  {
   "cell_type": "markdown",
   "id": "23f74fe6",
   "metadata": {},
   "source": [
    "#file pointer or cursor in pythpon "
   ]
  },
  {
   "cell_type": "code",
   "execution_count": 18,
   "id": "6185d0d7",
   "metadata": {},
   "outputs": [
    {
     "name": "stdout",
     "output_type": "stream",
     "text": [
      "0\n",
      "hello \n",
      "\n",
      "8\n"
     ]
    }
   ],
   "source": [
    "with open(\"sample.txt\",'r') as file:\n",
    "   print(file.tell())#my reading cursor of this file is 0 index \n",
    "   print(file.read())\n",
    "   print(file.tell())"
   ]
  },
  {
   "cell_type": "code",
   "execution_count": null,
   "id": "0fff8818",
   "metadata": {},
   "outputs": [
    {
     "name": "stdout",
     "output_type": "stream",
     "text": [
      "0\n",
      "hello\n",
      "5\n"
     ]
    }
   ],
   "source": [
    "with open(\"sample.txt\",'r') as file:\n",
    "   print(file.tell())#my reading cursor of this file is 0 index \n",
    "   print(file.read(5))\n",
    "   print(file.tell()) #read 5 index my cursor is now in 5 index \n",
    " "
   ]
  },
  {
   "cell_type": "code",
   "execution_count": null,
   "id": "b88a3373",
   "metadata": {},
   "outputs": [],
   "source": []
  }
 ],
 "metadata": {
  "kernelspec": {
   "display_name": "Python 3",
   "language": "python",
   "name": "python3"
  },
  "language_info": {
   "codemirror_mode": {
    "name": "ipython",
    "version": 3
   },
   "file_extension": ".py",
   "mimetype": "text/x-python",
   "name": "python",
   "nbconvert_exporter": "python",
   "pygments_lexer": "ipython3",
   "version": "3.13.7"
  }
 },
 "nbformat": 4,
 "nbformat_minor": 5
}
