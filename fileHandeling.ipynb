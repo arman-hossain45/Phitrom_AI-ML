{
 "cells": [
  {
   "cell_type": "code",
   "execution_count": 6,
   "id": "1b7d1743",
   "metadata": {},
   "outputs": [
    {
     "name": "stdout",
     "output_type": "stream",
     "text": [
      "hello test filehow is the learning going on ?\n"
     ]
    }
   ],
   "source": [
    "file=open(\"sample.txt\",'r')\n",
    "content=file.read()\n",
    "print(content)"
   ]
  },
  {
   "cell_type": "code",
   "execution_count": 7,
   "id": "a19be2cd",
   "metadata": {},
   "outputs": [],
   "source": [
    "with open(\"sample.txt\",'w') as file:\n",
    "    file.write(\"hello test file\")\n",
    "    file.write(\"how is the learning going on ?\")\n",
    "    "
   ]
  },
  {
   "cell_type": "markdown",
   "id": "77184650",
   "metadata": {},
   "source": [
    "#append a file  "
   ]
  },
  {
   "cell_type": "code",
   "execution_count": 9,
   "id": "4f3ad420",
   "metadata": {},
   "outputs": [],
   "source": [
    "with open(\"sample.txt\",'a') as file:\n",
    "    file.write(\"hello test file \\n\")\n",
    "    file.write(\"how is the learning going on ?\")\n",
    "    file.write(\"hey my name is arman I am from ml in phitron course with programming hero\")"
   ]
  }
 ],
 "metadata": {
  "kernelspec": {
   "display_name": "Python 3",
   "language": "python",
   "name": "python3"
  },
  "language_info": {
   "codemirror_mode": {
    "name": "ipython",
    "version": 3
   },
   "file_extension": ".py",
   "mimetype": "text/x-python",
   "name": "python",
   "nbconvert_exporter": "python",
   "pygments_lexer": "ipython3",
   "version": "3.13.7"
  }
 },
 "nbformat": 4,
 "nbformat_minor": 5
}
