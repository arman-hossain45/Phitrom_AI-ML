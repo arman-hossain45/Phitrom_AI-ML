{
 "cells": [
  {
   "cell_type": "code",
   "execution_count": 6,
   "id": "1b7d1743",
   "metadata": {},
   "outputs": [
    {
     "name": "stdout",
     "output_type": "stream",
     "text": [
      "hello test filehow is the learning going on ?\n"
     ]
    }
   ],
   "source": [
    "file=open(\"sample.txt\",'r')\n",
    "content=file.read()\n",
    "print(content)"
   ]
  },
  {
   "cell_type": "code",
   "execution_count": 21,
   "id": "a19be2cd",
   "metadata": {},
   "outputs": [],
   "source": [
    "with open(\"sample.txt\",'w') as file:\n",
    "    file.write(\"hello test file\\n\")\n",
    "    file.write(\"how is the learning going on ?\")\n",
    "    "
   ]
  },
  {
   "cell_type": "markdown",
   "id": "77184650",
   "metadata": {},
   "source": [
    "#append a file  "
   ]
  },
  {
   "cell_type": "code",
   "execution_count": 14,
   "id": "4f3ad420",
   "metadata": {},
   "outputs": [],
   "source": [
    "with open(\"sample.txt\",'a') as file:\n",
    "    file.write(\"hello test file \\n\")\n",
    "    file.write(\"how is the learning going on ?\\n\")\n",
    "    file.write(\"hey my name is arman I am from ml in phitron course with programming hero\")"
   ]
  },
  {
   "cell_type": "markdown",
   "id": "abfd6958",
   "metadata": {},
   "source": [
    "#convert into list"
   ]
  },
  {
   "cell_type": "code",
   "execution_count": 12,
   "id": "e2486d0d",
   "metadata": {},
   "outputs": [
    {
     "name": "stdout",
     "output_type": "stream",
     "text": [
      "['hello test filehow is the learning going on ?hello test filehow is the learning going on ?hey my name is arman I am from ml in phitron course with programming herohello test file', 'how is the learning going on ?hey my name is arman I am from ml in phitron course with programming herohello test file', 'how is the learning going on ?', 'hey my name is arman I am from ml in phitron course with programming hero']\n"
     ]
    }
   ],
   "source": [
    "file=open(\"sample.txt\",'r')\n",
    "content=file.readlines()\n",
    "content=list(map(str.strip,content))\n",
    "print(content)"
   ]
  },
  {
   "cell_type": "code",
   "execution_count": 13,
   "id": "2a209687",
   "metadata": {},
   "outputs": [],
   "source": [
    "strings=['hello','arman','how','is','going']\n",
    "with open (\"sample2.txt\",'a')as file:\n",
    "    file.writelines(strings)"
   ]
  },
  {
   "cell_type": "markdown",
   "id": "23f74fe6",
   "metadata": {},
   "source": [
    "#file pointer or cursor in pythpon "
   ]
  },
  {
   "cell_type": "code",
   "execution_count": 18,
   "id": "6185d0d7",
   "metadata": {},
   "outputs": [
    {
     "name": "stdout",
     "output_type": "stream",
     "text": [
      "0\n",
      "hello \n",
      "\n",
      "8\n"
     ]
    }
   ],
   "source": [
    "with open(\"sample.txt\",'r') as file:\n",
    "   print(file.tell())#my reading cursor of this file is 0 index \n",
    "   print(file.read())\n",
    "   print(file.tell())"
   ]
  },
  {
   "cell_type": "code",
   "execution_count": null,
   "id": "0fff8818",
   "metadata": {},
   "outputs": [
    {
     "name": "stdout",
     "output_type": "stream",
     "text": [
      "0\n",
      "hello\n",
      "5\n"
     ]
    }
   ],
   "source": [
    "with open(\"sample.txt\",'r') as file:\n",
    "   print(file.tell())#my reading cursor of this file is 0 index \n",
    "   print(file.read(5))\n",
    "   print(file.tell()) #read 5 index my cursor is now in 5 index \n",
    " "
   ]
  },
  {
   "cell_type": "markdown",
   "id": "310bd707",
   "metadata": {},
   "source": [
    "#seek method in python  we modify the index cursor in python "
   ]
  },
  {
   "cell_type": "code",
   "execution_count": 23,
   "id": "b88a3373",
   "metadata": {},
   "outputs": [
    {
     "name": "stdout",
     "output_type": "stream",
     "text": [
      "0\n",
      "4\n"
     ]
    }
   ],
   "source": [
    "with open(\"sample.txt\",'w') as file:\n",
    "  print(file.tell())\n",
    "  print(file.seek(4))"
   ]
  },
  {
   "cell_type": "markdown",
   "id": "3eb64575",
   "metadata": {},
   "source": [
    "#practice problem \n"
   ]
  },
  {
   "cell_type": "markdown",
   "id": "c411d900",
   "metadata": {},
   "source": [
    "#get the text from demo.txt and cont the followings\n"
   ]
  },
  {
   "cell_type": "markdown",
   "id": "fefb56e2",
   "metadata": {},
   "source": [
    "#number of lines\n"
   ]
  },
  {
   "cell_type": "markdown",
   "id": "10d43dab",
   "metadata": {},
   "source": [
    "#number of charecters\n",
    "#and solve it to the counter of demon.txt file "
   ]
  },
  {
   "cell_type": "code",
   "execution_count": 28,
   "id": "ab679f80",
   "metadata": {},
   "outputs": [],
   "source": [
    "with open (\"demo.txt\",'w') as file:\n",
    "    file.write(\"hello\\n\")\n",
    "    file.write(\"Arman\\n\")\n",
    "    file.write('how are you')"
   ]
  },
  {
   "cell_type": "markdown",
   "id": "62ebce92",
   "metadata": {},
   "source": [
    "#readline() method read a line and put it in a list "
   ]
  },
  {
   "cell_type": "code",
   "execution_count": 31,
   "id": "9213a599",
   "metadata": {},
   "outputs": [
    {
     "name": "stdout",
     "output_type": "stream",
     "text": [
      "['hello\\n', 'Arman\\n', 'how are you']\n",
      "3\n"
     ]
    }
   ],
   "source": [
    "with open (\"demo.txt\",'r') as file:\n",
    "    strings=file.readlines()\n",
    "    print(strings)\n",
    "    #print totall line of this text file \n",
    "    totall_line=len(strings)\n",
    "    print(totall_line)"
   ]
  },
  {
   "cell_type": "markdown",
   "id": "af254e93",
   "metadata": {},
   "source": [
    "#numbers of words in this text demo file"
   ]
  },
  {
   "cell_type": "code",
   "execution_count": 40,
   "id": "a435fa01",
   "metadata": {},
   "outputs": [
    {
     "name": "stdout",
     "output_type": "stream",
     "text": [
      "['hello\\n', 'Arman\\n', 'how are you']\n",
      "3\n",
      "[1, 1, 3]\n",
      "5\n",
      "[['hello'], ['Arman'], ['how', 'are', 'you']]\n",
      "[\"['hello']\", \"['Arman']\", \"['how','are','you']\"]\n",
      "[9, 9, 19]\n"
     ]
    }
   ],
   "source": [
    "from functools import reduce\n",
    "with open (\"demo.txt\",'r') as file:\n",
    "    string_list=file.readlines()\n",
    "    print(strings)\n",
    "    #print totall line of this text file \n",
    "    totall_line=len(string_list)\n",
    "    print(totall_line)\n",
    "\n",
    "    # tatall word of this demo file \n",
    "    number_of_words=list(map(lambda x:len(x.split()),string_list))\n",
    "    totall_number_ofWords=reduce(lambda x,y:x+y ,number_of_words)\n",
    "    print(number_of_words)\n",
    "    print(totall_number_ofWords)\n",
    "    #number of charecters\n",
    "    #first of all is cleaning process all special and new line clear\n",
    "    string_list=list(map(str.split,string_list))\n",
    "    print(string_list)\n",
    "    #space delete\n",
    "    string_list = list(map(lambda x: str(x).replace(\" \", \"\"), string_list))\n",
    "\n",
    "    print(string_list)\n",
    "    #number of charecter \n",
    "    number_of_ch=list(map(lambda x:len(x),string_list))\n",
    "\n",
    "    print(number_of_ch)\n",
    "\n",
    "                     \n",
    "\n",
    "\n"
   ]
  },
  {
   "cell_type": "code",
   "execution_count": 41,
   "id": "bf2d163a",
   "metadata": {},
   "outputs": [],
   "source": [
    "with open (\"practice.txt\",'w') as file:\n",
    "    file.write(\"hello\\n\")\n",
    "    file.write(\"Arman\\n\")\n",
    "    file.write('how are you')"
   ]
  },
  {
   "cell_type": "code",
   "execution_count": 43,
   "id": "b1893357",
   "metadata": {},
   "outputs": [],
   "source": [
    "from functools import reduce\n",
    "\n",
    "with open(\"practice.txt\",\"r\") as file:\n",
    "  string_list = file.readlines()\n",
    "\n",
    "  # total line koita\n",
    "  total_lines = len(string_list)\n",
    "\n",
    "  # word ber korbo\n",
    "  number_of_words = list(map(lambda x : len(x.split()),string_list))\n",
    "  #total words\n",
    "  total_number_of_words = reduce(lambda x,y : x+y ,number_of_words)\n",
    "\n",
    "  #cleaning process\n",
    "\n",
    "  # 1. new line delete\n",
    "  string_list = list(map(str.strip,string_list))\n",
    "\n",
    "  #2. space delete\n",
    "\n",
    "  string_list = list(map(lambda x : x.replace(\" \",\"\"),string_list))\n",
    "\n",
    "  # koita character\n",
    "\n",
    "  number_of_character = list(map(lambda x : len(x),string_list))\n",
    "\n",
    "  # total character\n",
    "  total_number_of_characters = reduce(lambda x,y : x+y ,number_of_character)\n",
    "\n",
    "\n",
    "\n",
    "with open(\"counter_of_string.txt\",\"w\") as file:\n",
    "  file.write(f\"total line: {total_lines}\\ntotal number of words:{total_number_of_words}\\ntotal number of char: {total_number_of_characters}\")\n"
   ]
  }
 ],
 "metadata": {
  "kernelspec": {
   "display_name": "Python 3",
   "language": "python",
   "name": "python3"
  },
  "language_info": {
   "codemirror_mode": {
    "name": "ipython",
    "version": 3
   },
   "file_extension": ".py",
   "mimetype": "text/x-python",
   "name": "python",
   "nbconvert_exporter": "python",
   "pygments_lexer": "ipython3",
   "version": "3.13.7"
  }
 },
 "nbformat": 4,
 "nbformat_minor": 5
}
